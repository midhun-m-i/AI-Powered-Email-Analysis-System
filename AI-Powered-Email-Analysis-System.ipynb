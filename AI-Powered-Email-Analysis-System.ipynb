{
 "cells": [
  {
   "cell_type": "code",
   "execution_count": null,
   "metadata": {
    "id": "Xs7CgO2zZVdi"
   },
   "outputs": [],
   "source": [
    "# for preprocessing html data\n",
    "!pip install beautifulsoup4\n",
    "# For RAG\n",
    "\n",
    "!pip install langchainhub\n",
    "!pip install chromadb\n",
    "!pip install gpt4all\n",
    "!pip install langchain==0.2.9\n",
    "!pip install pypdf\n",
    "!pip install langchain_community langchain_openai\n",
    "!pip install transformers\n",
    "!pip install openai\n",
    "!pip install beautifulsoup4\n",
    "!pip install faiss-cpu\n",
    "!pip install langchain-openai\n",
    "!pip install -U langchain-chroma"
   ]
  },
  {
   "cell_type": "code",
   "execution_count": null,
   "metadata": {
    "id": "ageLBZ8boiQ2"
   },
   "outputs": [],
   "source": [
    "from email import policy\n",
    "from email.parser import BytesParser"
   ]
  },
  {
   "cell_type": "code",
   "execution_count": null,
   "metadata": {
    "id": "wyWxynaajIkI"
   },
   "outputs": [],
   "source": [
    "from langchain.docstore.document import Document\n",
    "from langchain_text_splitters import RecursiveCharacterTextSplitter\n",
    "from langchain_community.vectorstores import Chroma\n",
    "from langchain.embeddings import GPT4AllEmbeddings\n",
    "from langchain.embeddings import OpenAIEmbeddings\n",
    "from langchain.vectorstores import Chroma"
   ]
  },
  {
   "cell_type": "markdown",
   "metadata": {
    "id": "P8H2ZF00vsN1"
   },
   "source": [
    "## My email assistant 'Taala' ......\n",
    "\n"
   ]
  },
  {
   "cell_type": "code",
   "execution_count": null,
   "metadata": {
    "id": "MUe8jH0HukvY"
   },
   "outputs": [],
   "source": [
    "from langchain_openai import OpenAI\n",
    "import os\n",
    "os.environ[\"OPENAI_API_KEY\"] =\"\" # please use a valid key\n",
    "llm = OpenAI(temperature=0.9)"
   ]
  },
  {
   "cell_type": "code",
   "execution_count": null,
   "metadata": {
    "id": "YL_i9Y-ohQMh"
   },
   "outputs": [],
   "source": [
    "# text_file = open(\"last_mail.bin\", \"wb\")\n",
    "# text_file.write(b'85')\n",
    "# text_file.close()"
   ]
  },
  {
   "cell_type": "code",
   "execution_count": null,
   "metadata": {
    "id": "PSOxM76Rp8CT"
   },
   "outputs": [],
   "source": [
    "# import os\n",
    "# from google.colab import files\n",
    "\n",
    "# # Zip the folder\n",
    "# !zip -r chroma_db_email.zip chroma_db_email\n",
    "\n",
    "# # Download the zipped file\n",
    "# files.download('chroma_db_email.zip')\n"
   ]
  },
  {
   "cell_type": "code",
   "execution_count": null,
   "metadata": {
    "id": "DgYCumeElJ7B"
   },
   "outputs": [],
   "source": [
    "# !unzip chroma_email_db.zip"
   ]
  },
  {
   "cell_type": "code",
   "execution_count": null,
   "metadata": {
    "id": "gibUrqKVjOAl"
   },
   "outputs": [],
   "source": [
    "def splits(mail_content):\n",
    "\n",
    "  doc = []\n",
    "\n",
    " # mail_number = int(last_mail_number.decode('utf-8'))+1\n",
    "\n",
    "  for i in range(len(mail_content)):\n",
    "    mail_number= int(mail_content[i].split(',')[0][10:-1])\n",
    "    doci = Document(page_content=mail_content[i],\n",
    "                  metadata={\"source\": \"local\",\"mail_number\":mail_number})\n",
    "    doc.append(doci)\n",
    "\n",
    "  # split into different chunks\n",
    "  # chunk_size and chunk_overlap are a hyperparameters we choose\n",
    "  text_splitter = RecursiveCharacterTextSplitter(chunk_size=20000, chunk_overlap=0)\n",
    "\n",
    "  # split the documents\n",
    "  all_splits = text_splitter.split_documents(doc) # Pass the list of documents 'doc'\n",
    "\n",
    "  return all_splits\n"
   ]
  },
  {
   "cell_type": "code",
   "execution_count": null,
   "metadata": {
    "id": "pNSFN2nFkQeG"
   },
   "outputs": [],
   "source": [
    "def get_email_content(msg_list):\n",
    "  for msgnum in msg_list:\n",
    "        test = {}\n",
    "        _, data = imap.fetch(msgnum, \"(RFC822)\")\n",
    "        message = email.message_from_bytes(data[0][1])\n",
    "\n",
    "        for part in message.walk():\n",
    "            if part.get_content_type() == \"text/plain\":\n",
    "                # Decode email payload\n",
    "                payload = part.get_payload(decode=True)\n",
    "                # Convert payload to string\n",
    "                body = payload.decode(part.get_content_charset() or 'utf-8', errors='replace')\n",
    "\n",
    "                # Clean unwanted content\n",
    "                # Remove quoted-printable encoding artifacts\n",
    "                body = re.sub(r'=([0-9A-Fa-f]{2})', lambda x: bytes.fromhex(x.group(1)).decode('latin-1'), body)\n",
    "\n",
    "                # Optionally, remove headers and other unwanted text\n",
    "                body = re.sub(r'^.*?Content-Type: text/plain;.*?$', '', body, flags=re.DOTALL)\n",
    "\n",
    "                # Remove carriage returns\n",
    "                body = body.replace('\\r', '')\n",
    "\n",
    "                # Use BeautifulSoup to extract text\n",
    "                soup = BeautifulSoup(body, 'html.parser')\n",
    "                body_text = soup.get_text().replace('\"', '').replace(\"\\n\", \" \").replace(\"\\t\", \" \").strip()\n",
    "\n",
    "                # Collect email details\n",
    "                test = {\n",
    "                    'Num': msgnum,\n",
    "                    'message_id': message.get('Message-ID'),\n",
    "                    'In_Reply_To': message.get('In-Reply-To'),\n",
    "                    'References': message.get('References'),\n",
    "                    'From': message.get('From'),\n",
    "                    'To': message.get('To'),\n",
    "                    'Date': message.get('Date'),\n",
    "                    'Subject': message.get('Subject'),\n",
    "                    'Body': body_text\n",
    "                }\n",
    "\n",
    "                content.append(str(test))\n",
    "\n",
    "                break  # Exit after processing the first part\n",
    "\n",
    "        # Use pprint to print the sixth email for verification\n",
    "  # pprint(content)\n",
    "  return content"
   ]
  },
  {
   "cell_type": "code",
   "execution_count": null,
   "metadata": {
    "colab": {
     "base_uri": "https://localhost:8080/"
    },
    "id": "lPX3DJieH_9L",
    "outputId": "3de158ff-b495-42a3-8b1c-46c1c42cd4ab"
   },
   "outputs": [
    {
     "name": "stdout",
     "output_type": "stream",
     "text": [
      "overwriting to file\n"
     ]
    },
    {
     "data": {
      "text/plain": [
       "('BYE', [b'LOGOUT Requested'])"
      ]
     },
     "execution_count": 17,
     "metadata": {},
     "output_type": "execute_result"
    }
   ],
   "source": [
    "import imaplib\n",
    "import email\n",
    "from bs4 import BeautifulSoup\n",
    "import re\n",
    "from pprint import pprint\n",
    "import os\n",
    "\n",
    "file_path = 'last_mail.bin'\n",
    "content = []\n",
    "initial_flag = False\n",
    "imap_server = \"imap.gmail.com\"\n",
    "email_address = \"\" # enter gmailid\n",
    "password = \"\" #enter password\n",
    "\n",
    "# Connect to the IMAP server\n",
    "imap = imaplib.IMAP4_SSL(imap_server, 993)\n",
    "imap.login(email_address, password)\n",
    "imap.select(\"Inbox\")\n",
    "\n",
    "# Search for all messages in the inbox\n",
    "_, msgnums = imap.search(None, \"ALL\")\n",
    "\n",
    "current_mail_list = msgnums[0].split()\n",
    "new_mail_list = []\n",
    "if os.path.exists(file_path):\n",
    "    file_obj = open(\"last_mail.bin\",\"rb\")\n",
    "    last_mail_number = file_obj.read()\n",
    "    if current_mail_list[-1]==last_mail_number:\n",
    "      print(\"No New Emails\")\n",
    "    else:\n",
    "      ind_strt = current_mail_list.index(last_mail_number)+1\n",
    "      new_mail_list = current_mail_list[ind_strt:]\n",
    "      mail_content = get_email_content(new_mail_list)\n",
    "      all_splits = splits(mail_content)\n",
    "      text_file = open(file_path, \"wb\")\n",
    "      text_file.write(new_mail_list[-1])\n",
    "      print(\"overwriting to file\")\n",
    "      initial_flag = True\n",
    "      text_file.close()\n",
    "\n",
    "else:\n",
    "\n",
    "\n",
    "    mail_content = get_email_content(current_mail_list)\n",
    "    all_splits = splits(mail_content)\n",
    "    text_file = open(file_path, \"wb\")\n",
    "    text_file.write(current_mail_list[-1])\n",
    "    print(\"writing to new file\")\n",
    "    text_file.close()\n",
    "\n",
    "\n",
    "imap.close()\n",
    "imap.logout()"
   ]
  },
  {
   "cell_type": "code",
   "execution_count": null,
   "metadata": {
    "id": "Fi2qIIaRiZQz"
   },
   "outputs": [],
   "source": [
    "mail_content"
   ]
  },
  {
   "cell_type": "code",
   "execution_count": null,
   "metadata": {
    "id": "8E2eB3USMkiQ"
   },
   "outputs": [],
   "source": [
    "embeddings = GPT4AllEmbeddings()"
   ]
  },
  {
   "cell_type": "code",
   "execution_count": null,
   "metadata": {
    "id": "L3-QE6j9jMM4"
   },
   "outputs": [],
   "source": [
    "from langchain_chroma import Chroma\n",
    "if initial_flag:\n",
    "    # Load the existing ChromaDB\n",
    "    persistant_directory = \"chroma_db_email\"\n",
    "    db = Chroma(persist_directory=persistant_directory, embedding_function=embeddings)\n",
    "\n",
    "    # Add the new documents to the existing ChromaDB\n",
    "    db.add_documents(documents=all_splits)\n",
    "\n",
    "else:\n",
    "    # If it's the first time, create a new ChromaDB\n",
    "    db = Chroma.from_documents(documents=all_splits, embedding=embeddings, persist_directory=\"chroma_db_email\")\n"
   ]
  },
  {
   "cell_type": "code",
   "execution_count": null,
   "metadata": {
    "id": "JDP7FfEfPD7S"
   },
   "outputs": [],
   "source": [
    "query = \"What is regarding Jio ?\""
   ]
  },
  {
   "cell_type": "code",
   "execution_count": null,
   "metadata": {
    "id": "pehnxmEtPD-h"
   },
   "outputs": [],
   "source": [
    "retriever = db.as_retriever(search_type=\"similarity\", search_kwargs={\"k\": 1})"
   ]
  },
  {
   "cell_type": "code",
   "execution_count": null,
   "metadata": {
    "id": "yfhEW8hzPEBa"
   },
   "outputs": [],
   "source": [
    "get_documents = retriever.invoke(query)"
   ]
  },
  {
   "cell_type": "code",
   "execution_count": null,
   "metadata": {
    "id": "UcYRkmU6STj_"
   },
   "outputs": [],
   "source": [
    "combined_input = (\n",
    "    \"You are an email assistant and you are provided with some documents with email contents that might help you answer the question : \"\n",
    "    +query\n",
    "    +\"\\n\\nRelevant Documents: \\n\"\n",
    "    + \"\\n\\n\".join([doc.page_content for doc in get_documents])\n",
    "    + \"\\n\\n Please provide an answer considering all the parameters in the provided documents. If the answer is not found, provide ''' Content Not found''' \"\n",
    ")\n",
    "\n"
   ]
  },
  {
   "cell_type": "code",
   "execution_count": null,
   "metadata": {
    "id": "XPdEO-whSTnT"
   },
   "outputs": [],
   "source": [
    "from langchain.schema import SystemMessage, HumanMessage\n",
    "messages = [\n",
    "    SystemMessage(content =\"You are a helpful assistant\"),\n",
    "    HumanMessage(content = combined_input)\n",
    "]"
   ]
  },
  {
   "cell_type": "code",
   "execution_count": null,
   "metadata": {
    "id": "ntAlieSmSTqV"
   },
   "outputs": [],
   "source": [
    "result = llm.invoke(messages)"
   ]
  },
  {
   "cell_type": "code",
   "execution_count": null,
   "metadata": {
    "colab": {
     "base_uri": "https://localhost:8080/"
    },
    "id": "FAnD_tk1Rq0V",
    "outputId": "c579a2d5-97da-4806-eaa1-0157ed876231"
   },
   "outputs": [
    {
     "name": "stdout",
     "output_type": "stream",
     "text": [
      "\n",
      "\n",
      "Jio is a telecom service provider that highly prioritizes the security of its customers. Recently, there have been cases of scammers posing as Jio representatives and attempting to obtain sensitive information from customers. To avoid falling for such fraudulent activities, Jio has recommended its customers to never click on suspicious links or attachments, not respond to unsolicited emails, messages or calls asking for personal information, and not download apps that could provide remote access to their devices. Additionally, Jio will never ask its customers to download third-party apps and any communication from Jio will never ask them to click on unknown links outside of the official Jio website or MyJio app. It is also advised to regularly check bank and card statements for any irregularities and to keep devices updated and safe from unauthorized access. In case of any doubts, customers are recommended to log in to the MyJio app for relevant information. Overall, Jio takes great measures to ensure the security of its customers' personal information.\n"
     ]
    }
   ],
   "source": [
    "print(result)"
   ]
  }
 ],
 "metadata": {
  "accelerator": "GPU",
  "colab": {
   "gpuType": "T4",
   "provenance": []
  },
  "kernelspec": {
   "display_name": "Python 3 (ipykernel)",
   "language": "python",
   "name": "python3"
  },
  "language_info": {
   "codemirror_mode": {
    "name": "ipython",
    "version": 3
   },
   "file_extension": ".py",
   "mimetype": "text/x-python",
   "name": "python",
   "nbconvert_exporter": "python",
   "pygments_lexer": "ipython3",
   "version": "3.9.13"
  }
 },
 "nbformat": 4,
 "nbformat_minor": 1
}
